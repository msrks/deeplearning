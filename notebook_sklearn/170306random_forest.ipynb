{
 "cells": [
  {
   "cell_type": "markdown",
   "metadata": {},
   "source": [
    "# Random Forest in sklearn\n",
    "\n",
    "@masahiro rikiso, 170306\n",
    "\n",
    "* http://scikit-learn.org/stable/modules/ensemble.html\n",
    "\n",
    "---"
   ]
  },
  {
   "cell_type": "code",
   "execution_count": 1,
   "metadata": {
    "collapsed": true
   },
   "outputs": [],
   "source": [
    "from __future__ import print_function\n",
    "import numpy as np\n",
    "import matplotlib.pyplot as plt\n",
    "%matplotlib inline "
   ]
  },
  {
   "cell_type": "code",
   "execution_count": 10,
   "metadata": {},
   "outputs": [],
   "source": [
    "from sklearn.ensemble import RandomForestClassifier\n",
    "from sklearn.model_selection import cross_val_score"
   ]
  },
  {
   "cell_type": "markdown",
   "metadata": {},
   "source": [
    "## load dataset"
   ]
  },
  {
   "cell_type": "code",
   "execution_count": 11,
   "metadata": {},
   "outputs": [
    {
     "data": {
      "text/plain": [
       "((3000, 10), (3000,))"
      ]
     },
     "execution_count": 11,
     "metadata": {},
     "output_type": "execute_result"
    }
   ],
   "source": [
    "from sklearn.datasets import make_blobs\n",
    "X, y = make_blobs(n_samples=3000, n_features=10, centers=50, cluster_std=1.)\n",
    "X.shape, y.shape"
   ]
  },
  {
   "cell_type": "markdown",
   "metadata": {},
   "source": [
    "## CV about 1) n_estimators, 2) max_depth, 3) max_features[option]"
   ]
  },
  {
   "cell_type": "markdown",
   "metadata": {},
   "source": [
    "tips for random_forest\n",
    "\n",
    "* max_features='auto' is good! In this case, max_features=sqrt(n_features). \n",
    "* If you want to change max_feature, it is also good.(use cross-validation) \n",
    "* strong tree is good for random forest, while week tree is good for boosting."
   ]
  },
  {
   "cell_type": "code",
   "execution_count": 15,
   "metadata": {
    "collapsed": true
   },
   "outputs": [
    {
     "name": "stdout",
     "output_type": "stream",
     "text": [
      "10 5 0.994 0.00388730126323\n",
      "10 6 0.999666666667 0.001\n",
      "10 7 0.999666666667 0.001\n",
      "10 8 1.0 0.0\n",
      "10 9 0.999666666667 0.001\n",
      "15 5 0.998 0.00221108319357\n",
      "15 6 0.999333333333 0.00133333333333\n",
      "15 7 0.999666666667 0.001\n",
      "15 8 1.0 0.0\n",
      "15 9 0.999666666667 0.001\n",
      "20 5 0.997666666667 0.00213437474581\n",
      "20 6 0.999333333333 0.00133333333333\n",
      "20 7 0.999666666667 0.001\n",
      "20 8 0.999666666667 0.001\n",
      "20 9 1.0 0.0\n",
      "25 5 0.998 0.0030550504633\n",
      "25 6 1.0 0.0\n",
      "25 7 0.999666666667 0.001\n",
      "25 8 0.999666666667 0.001\n",
      "25 9 1.0 0.0\n",
      "30 5 0.998333333333 0.0022360679775\n",
      "30 6 0.999666666667 0.001\n",
      "30 7 1.0 0.0\n",
      "30 8 1.0 0.0\n",
      "30 9 1.0 0.0\n",
      "35 5 0.998 0.00266666666667\n",
      "35 6 0.999666666667 0.001\n",
      "35 7 0.999666666667 0.001\n",
      "35 8 0.999666666667 0.001\n",
      "35 9 1.0 0.0\n",
      "40 5 0.999333333333 0.00133333333333\n",
      "40 6 0.999666666667 0.001\n",
      "40 7 1.0 0.0\n",
      "40 8 1.0 0.0\n",
      "40 9 1.0 0.0\n",
      "45 5 0.998333333333 0.00307318148576\n",
      "45 6 0.999666666667 0.001\n",
      "45 7 0.999666666667 0.001\n",
      "45 8 1.0 0.0\n",
      "45 9 1.0 0.0\n"
     ]
    }
   ],
   "source": [
    "score_mean = []\n",
    "for num in range(10,50,5):\n",
    "    for depth in range(5,10): \n",
    "        clf = RandomForestClassifier(n_estimators=num, criterion='entropy', max_depth=depth)\n",
    "        score = cross_val_score(clf, X, y, cv=10)\n",
    "        print (num, depth, score.mean(), score.std())\n",
    "        score_mean.append(score.mean())        "
   ]
  },
  {
   "cell_type": "markdown",
   "metadata": {},
   "source": [
    "## visualization of importance"
   ]
  },
  {
   "cell_type": "code",
   "execution_count": 17,
   "metadata": {},
   "outputs": [
    {
     "name": "stdout",
     "output_type": "stream",
     "text": [
      "Feature ranking:\n",
      "1. feature 0 (0.138540)\n",
      "2. feature 9 (0.134953)\n",
      "3. feature 2 (0.119569)\n",
      "4. feature 8 (0.118719)\n",
      "5. feature 4 (0.101465)\n",
      "6. feature 7 (0.099229)\n",
      "7. feature 1 (0.080944)\n",
      "8. feature 5 (0.074371)\n",
      "9. feature 3 (0.066152)\n",
      "10. feature 6 (0.066059)\n"
     ]
    },
    {
     "data": {
      "image/png": "[encoded data removed]",
      "text/plain": [
       "<matplotlib.figure.Figure at 0x10fc3a210>"
      ]
     },
     "metadata": {},
     "output_type": "display_data"
    }
   ],
   "source": [
    "forest = RandomForestClassifier(n_estimators=15, criterion='entropy', max_depth=8)\n",
    "forest.fit(X,y)\n",
    "\n",
    "importances = forest.feature_importances_\n",
    "std = np.std([tree.feature_importances_ for tree in forest.estimators_],\n",
    "             axis=0)\n",
    "indices = np.argsort(importances)[::-1]\n",
    "\n",
    "# Print the feature ranking\n",
    "print(\"Feature ranking:\")\n",
    "\n",
    "for f in range(X.shape[1]):\n",
    "    print(\"%d. feature %d (%f)\" % (f + 1, indices[f], importances[indices[f]]))\n",
    "\n",
    "# Plot the feature importances of the forest\n",
    "plt.figure()\n",
    "plt.title(\"Feature importances\")\n",
    "plt.bar(range(X.shape[1]), importances[indices],\n",
    "       color=\"r\", yerr=std[indices], align=\"center\")\n",
    "plt.xticks(range(X.shape[1]), indices)\n",
    "plt.xlim([-1, X.shape[1]])\n",
    "plt.show()"
   ]
  }
 ],
 "metadata": {
  "kernelspec": {
   "display_name": "Python 2",
   "language": "python",
   "name": "python2"
  },
  "language_info": {
   "codemirror_mode": {
    "name": "ipython",
    "version": 2
   },
   "file_extension": ".py",
   "mimetype": "text/x-python",
   "name": "python",
   "nbconvert_exporter": "python",
   "pygments_lexer": "ipython2",
   "version": "2.7.13"
  }
 },
 "nbformat": 4,
 "nbformat_minor": 2
}
